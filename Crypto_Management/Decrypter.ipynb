{
 "cells": [
  {
   "cell_type": "code",
   "execution_count": 1,
   "metadata": {},
   "outputs": [],
   "source": [
    "directory=\"/mnt/Personal/Repository/Raiden-Encrypted\"\n",
    "key_path=\"/mnt/Personal/Projects/Micromouse/KEYS\""
   ]
  },
  {
   "cell_type": "code",
   "execution_count": 2,
   "metadata": {},
   "outputs": [],
   "source": [
    "import os\n",
    "from Crypto.Cipher import AES, PKCS1_OAEP\n",
    "from Crypto.PublicKey import RSA\n",
    "\n",
    "def decrypt_file(input_file, output_file, private_key):\n",
    "    with open(input_file, \"rb\") as f:\n",
    "        enc_aes_key = f.read(256)  \n",
    "        nonce = f.read(16)  \n",
    "        tag = f.read(16)  \n",
    "        ciphertext = f.read()\n",
    "\n",
    "    cipher_rsa = PKCS1_OAEP.new(RSA.import_key(private_key))\n",
    "    aes_key = cipher_rsa.decrypt(enc_aes_key)\n",
    "\n",
    "    cipher_aes = AES.new(aes_key, AES.MODE_EAX, nonce=nonce)\n",
    "    plaintext = cipher_aes.decrypt_and_verify(ciphertext, tag)\n",
    "\n",
    "    with open(output_file, \"wb\") as f:\n",
    "        f.write(plaintext)\n",
    "\n",
    "def decrypt_directory(encrypted_dir):\n",
    "    if not encrypted_dir.endswith(\"-Encrypted\"):\n",
    "        print(\"Invalid directory. Must end with '-Encrypted'.\")\n",
    "        return\n",
    "\n",
    "    decrypted_dir = encrypted_dir.replace(\"-Encrypted\", \"-Decrypted\")\n",
    "    os.makedirs(decrypted_dir, exist_ok=True)\n",
    "\n",
    "    private_key_path = os.path.join(key_path, \"private_key.pem\")\n",
    "    if not os.path.exists(private_key_path):\n",
    "        print(\"Private key not found. Decryption aborted.\")\n",
    "        return\n",
    "\n",
    "    with open(private_key_path, \"rb\") as key_file:\n",
    "        private_key = key_file.read()\n",
    "\n",
    "    for root, dirs, files in os.walk(encrypted_dir):\n",
    "        rel_path = os.path.relpath(root, encrypted_dir)\n",
    "        new_root = os.path.join(decrypted_dir, rel_path)\n",
    "        os.makedirs(new_root, exist_ok=True)\n",
    "\n",
    "        for file in files:\n",
    "            if not file.endswith(\".enc\"):\n",
    "                continue\n",
    "            input_path = os.path.join(root, file)\n",
    "            output_path = os.path.join(new_root, file[:-4])  \n",
    "            decrypt_file(input_path, output_path, private_key)\n",
    "\n",
    "    print(f\"Decryption complete. Decrypted files stored in {decrypted_dir}\")"
   ]
  },
  {
   "cell_type": "code",
   "execution_count": 3,
   "metadata": {},
   "outputs": [
    {
     "name": "stdout",
     "output_type": "stream",
     "text": [
      "Decryption complete. Decrypted files stored in /mnt/Personal/Repository/Raiden-Decrypted\n"
     ]
    }
   ],
   "source": [
    "decrypt_directory(directory)"
   ]
  },
  {
   "cell_type": "code",
   "execution_count": 4,
   "metadata": {},
   "outputs": [
    {
     "name": "stdout",
     "output_type": "stream",
     "text": [
      "Directories are completely identical!\n"
     ]
    }
   ],
   "source": [
    "import os\n",
    "import filecmp\n",
    "\n",
    "def are_directories_equal(dir1, dir2):\n",
    "    if not os.path.exists(dir1) or not os.path.exists(dir2):\n",
    "        print(\"One or both directories do not exist.\")\n",
    "        return False\n",
    "\n",
    "    comparison = filecmp.dircmp(dir1, dir2)\n",
    "\n",
    "    if comparison.left_only:\n",
    "        print(f\"Files only in {dir1}: {comparison.left_only}\")\n",
    "    if comparison.right_only:\n",
    "        print(f\"Files only in {dir2}: {comparison.right_only}\")\n",
    "    if comparison.diff_files:\n",
    "        for diff_file in comparison.diff_files:\n",
    "            print(f\"Files differ: {os.path.join(dir1, diff_file)} and {os.path.join(dir2, diff_file)}\")\n",
    "\n",
    "    # Recursively check subdirectories\n",
    "    for subdir in comparison.common_dirs:\n",
    "        subdir1 = os.path.join(dir1, subdir)\n",
    "        subdir2 = os.path.join(dir2, subdir)\n",
    "        are_directories_equal(subdir1, subdir2)\n",
    "\n",
    "    # If there were any differences, return False\n",
    "    return not (comparison.left_only or comparison.right_only or comparison.diff_files)\n",
    "\n",
    "# Example usage:\n",
    "dir1 = directory.replace(\"-Encrypted\", \"\")\n",
    "dir2 = directory.replace(\"-Encrypted\", \"-Decrypted\")\n",
    "\n",
    "if are_directories_equal(dir1, dir2):\n",
    "    print(\"Directories are completely identical!\")\n",
    "else:\n",
    "    print(\"Directories are different!\")\n"
   ]
  }
 ],
 "metadata": {
  "kernelspec": {
   "display_name": "Python 3",
   "language": "python",
   "name": "python3"
  },
  "language_info": {
   "codemirror_mode": {
    "name": "ipython",
    "version": 3
   },
   "file_extension": ".py",
   "mimetype": "text/x-python",
   "name": "python",
   "nbconvert_exporter": "python",
   "pygments_lexer": "ipython3",
   "version": "3.12.3"
  }
 },
 "nbformat": 4,
 "nbformat_minor": 2
}
